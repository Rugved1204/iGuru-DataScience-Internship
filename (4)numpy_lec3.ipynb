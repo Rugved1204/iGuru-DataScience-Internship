{
  "nbformat": 4,
  "nbformat_minor": 0,
  "metadata": {
    "colab": {
      "provenance": []
    },
    "kernelspec": {
      "name": "python3",
      "display_name": "Python 3"
    },
    "language_info": {
      "name": "python"
    }
  },
  "cells": [
    {
      "cell_type": "code",
      "execution_count": 1,
      "metadata": {
        "id": "PzFV1LMs1O3F"
      },
      "outputs": [],
      "source": [
        "import numpy as np"
      ]
    },
    {
      "cell_type": "code",
      "source": [
        "# astype() = used to change datatype of array into another datatype\n",
        "\n",
        "arr = np.array([1,2,3,4])\n",
        "print(arr.dtype)\n",
        "print(arr)\n",
        "\n",
        "arr = arr.astype('float64')\n",
        "print(arr.dtype)\n",
        "print(arr)"
      ],
      "metadata": {
        "colab": {
          "base_uri": "https://localhost:8080/"
        },
        "id": "XflOFuyi2QvV",
        "outputId": "64aae877-1de7-42a8-a87e-8356882177ae"
      },
      "execution_count": 2,
      "outputs": [
        {
          "output_type": "stream",
          "name": "stdout",
          "text": [
            "int64\n",
            "[1 2 3 4]\n",
            "float64\n",
            "[1. 2. 3. 4.]\n"
          ]
        }
      ]
    },
    {
      "cell_type": "code",
      "source": [
        "arr = np.array([1.5,2.5,3.7,4.6], dtype='i')\n",
        "print(arr.dtype)\n",
        "print(arr)"
      ],
      "metadata": {
        "colab": {
          "base_uri": "https://localhost:8080/"
        },
        "id": "J-NoyrPC6jh3",
        "outputId": "cd95b85f-a34a-4506-b25b-f41d5e19130c"
      },
      "execution_count": 3,
      "outputs": [
        {
          "output_type": "stream",
          "name": "stdout",
          "text": [
            "int32\n",
            "[1 2 3 4]\n"
          ]
        }
      ]
    },
    {
      "cell_type": "code",
      "source": [
        "# copy() and view()\n",
        "\n",
        "# copy() - if you make changes in orignal array , copied array will remain same , and if you make any changes in copied array, it wont affect the orignal array\n",
        "\n",
        "org_arr = np.array([1,2,3,4,5])\n",
        "copy_arr = org_arr.copy()\n",
        "\n",
        "print(org_arr)\n",
        "print(copy_arr)\n",
        "\n",
        "copy_arr[1] = 200\n",
        "print('Orignal array :',org_arr)\n",
        "print('Copied array :',copy_arr)\n",
        "\n"
      ],
      "metadata": {
        "colab": {
          "base_uri": "https://localhost:8080/"
        },
        "id": "IC316wdi65aO",
        "outputId": "55ce2ad6-d110-4266-af29-f7e6fa8c876c"
      },
      "execution_count": 4,
      "outputs": [
        {
          "output_type": "stream",
          "name": "stdout",
          "text": [
            "[1 2 3 4 5]\n",
            "[1 2 3 4 5]\n",
            "Orignal array : [1 2 3 4 5]\n",
            "Copied array : [  1 200   3   4   5]\n"
          ]
        }
      ]
    },
    {
      "cell_type": "code",
      "source": [
        "# view() - if you make changes in orignal array , copied array will not remain same , and if you make any changes in copied array, it will affect the orignal array\n",
        "\n",
        "org_arr = np.array([1,2,3,4,5])\n",
        "view_arr = org_arr.view()\n",
        "\n",
        "print(org_arr)\n",
        "print(view_arr)\n",
        "\n",
        "view_arr[1] = 200\n",
        "print('Orignal array :',org_arr)\n",
        "print('Viewed array :',view_arr)"
      ],
      "metadata": {
        "colab": {
          "base_uri": "https://localhost:8080/"
        },
        "id": "8SJP7WfCW6Ds",
        "outputId": "993be965-13eb-458d-e260-a329c87c455d"
      },
      "execution_count": 5,
      "outputs": [
        {
          "output_type": "stream",
          "name": "stdout",
          "text": [
            "[1 2 3 4 5]\n",
            "[1 2 3 4 5]\n",
            "Orignal array : [  1 200   3   4   5]\n",
            "Viewed array : [  1 200   3   4   5]\n"
          ]
        }
      ]
    },
    {
      "cell_type": "code",
      "source": [
        "# reshape() - used to change the dimensions of an array ( also called as transformation)\n",
        "# convert 1D into 2D\n",
        "# convert 2D into 1D ( simplest )\n",
        "\n",
        "arr = np.array([1,2,3,4,5,6,7,8,9,10,11,12])\n",
        "print(arr.shape)\n",
        "\n",
        "arr = arr.reshape(4,3)\n",
        "print(arr)\n",
        "print(arr.shape)\n",
        "\n",
        "arr = arr.reshape(-1)\n",
        "print(arr)\n",
        "print(arr.shape)"
      ],
      "metadata": {
        "id": "AN6XTjl-X11y",
        "colab": {
          "base_uri": "https://localhost:8080/"
        },
        "outputId": "9a8105de-5dfa-4a74-9dbf-3fb28699964f"
      },
      "execution_count": 8,
      "outputs": [
        {
          "output_type": "stream",
          "name": "stdout",
          "text": [
            "(12,)\n",
            "[[ 1  2  3]\n",
            " [ 4  5  6]\n",
            " [ 7  8  9]\n",
            " [10 11 12]]\n",
            "(4, 3)\n",
            "[ 1  2  3  4  5  6  7  8  9 10 11 12]\n",
            "(12,)\n"
          ]
        }
      ]
    },
    {
      "cell_type": "code",
      "source": [
        "# convert 2D to 1D\n",
        "\n",
        "arr = np.array([[1,2,3],[7,8,9]])\n",
        "print(arr)\n",
        "print(arr.shape)\n",
        "\n",
        "arr = arr.reshape(6)\n",
        "print(arr)\n",
        "print(arr.shape)"
      ],
      "metadata": {
        "colab": {
          "base_uri": "https://localhost:8080/"
        },
        "id": "Cuy8psNk2y77",
        "outputId": "d2bf8032-14f2-4b09-8528-7d02c2fde56f"
      },
      "execution_count": 12,
      "outputs": [
        {
          "output_type": "stream",
          "name": "stdout",
          "text": [
            "[[1 2 3]\n",
            " [7 8 9]]\n",
            "(2, 3)\n",
            "[1 2 3 7 8 9]\n",
            "(6,)\n"
          ]
        }
      ]
    },
    {
      "cell_type": "code",
      "source": [
        "arr = np.array([[1,2,3],[7,8,9]])\n",
        "arr = arr.reshape(-1)\n",
        "print(arr)\n",
        "print(arr.shape)"
      ],
      "metadata": {
        "colab": {
          "base_uri": "https://localhost:8080/"
        },
        "id": "ne-LvNkn3-Eo",
        "outputId": "d555688a-914a-4826-cf96-e51bff287c2e"
      },
      "execution_count": 13,
      "outputs": [
        {
          "output_type": "stream",
          "name": "stdout",
          "text": [
            "[1 2 3 7 8 9]\n",
            "(6,)\n"
          ]
        }
      ]
    },
    {
      "cell_type": "code",
      "source": [
        "arr = np.array([[1,2,3],[7,8,9]])\n",
        "arr = arr.flatten()\n",
        "print(arr)\n",
        "print(arr.shape)"
      ],
      "metadata": {
        "colab": {
          "base_uri": "https://localhost:8080/"
        },
        "id": "i0MqbYfv4YrT",
        "outputId": "6cd7900f-51d8-4e8b-842c-34b02c54d9da"
      },
      "execution_count": 14,
      "outputs": [
        {
          "output_type": "stream",
          "name": "stdout",
          "text": [
            "[1 2 3 7 8 9]\n",
            "(6,)\n"
          ]
        }
      ]
    },
    {
      "cell_type": "code",
      "source": [
        "# how to filter a array\n",
        "\n",
        "arr = np.array([1,2,3,4,5,6,7,8,9,10,11,12])\n",
        "for i in arr:\n",
        "    if i%2 == 0:\n",
        "        print(i)"
      ],
      "metadata": {
        "colab": {
          "base_uri": "https://localhost:8080/"
        },
        "id": "MPCfUbgH4hwz",
        "outputId": "940c8df0-a0e5-4b41-c134-76db9142f978"
      },
      "execution_count": 15,
      "outputs": [
        {
          "output_type": "stream",
          "name": "stdout",
          "text": [
            "2\n",
            "4\n",
            "6\n",
            "8\n",
            "10\n",
            "12\n"
          ]
        }
      ]
    },
    {
      "cell_type": "code",
      "source": [
        "# boolean masking -  returns output in boolean value\n",
        "\n",
        "arr = np.array([1,2,3,4,5,6,7,8,9,10,11,12])\n",
        "res = arr > 5\n",
        "print(res)\n",
        "print(arr[res])\n",
        "\n",
        "res1 = arr%2==0\n",
        "print(res1)\n",
        "print(arr[res1])"
      ],
      "metadata": {
        "colab": {
          "base_uri": "https://localhost:8080/"
        },
        "id": "pjjhMiJ94uab",
        "outputId": "2ae4894b-4389-4577-8ed8-adb06a2d5a36"
      },
      "execution_count": 19,
      "outputs": [
        {
          "output_type": "stream",
          "name": "stdout",
          "text": [
            "[False False False False False  True  True  True  True  True  True  True]\n",
            "[ 6  7  8  9 10 11 12]\n",
            "[False  True False  True False  True False  True False  True False  True]\n",
            "[ 2  4  6  8 10 12]\n"
          ]
        }
      ]
    },
    {
      "cell_type": "code",
      "source": [
        "# for 2 or more conditions\n",
        "arr = np.array([1,2,3,4,5,6,7,8,9,10,11,12])\n",
        "res = (arr > 4) | (arr < 9)\n",
        "print(arr[res])"
      ],
      "metadata": {
        "colab": {
          "base_uri": "https://localhost:8080/"
        },
        "id": "yOmFLcpX5Bly",
        "outputId": "65516d5f-323e-4988-b2bd-a53e33222e68"
      },
      "execution_count": 23,
      "outputs": [
        {
          "output_type": "stream",
          "name": "stdout",
          "text": [
            "[ 1  2  3  4  5  6  7  8  9 10 11 12]\n"
          ]
        }
      ]
    },
    {
      "cell_type": "code",
      "source": [
        "arr = np.array([1,2,3,4,5,6,7,8,9,10,11,12])\n",
        "res = (arr > 4) & (arr < 9)\n",
        "print(arr[res])"
      ],
      "metadata": {
        "colab": {
          "base_uri": "https://localhost:8080/"
        },
        "id": "DCBTSdoK54zv",
        "outputId": "f32fe8b1-1bea-4e6c-d48a-b55fd3ab8133"
      },
      "execution_count": 22,
      "outputs": [
        {
          "output_type": "stream",
          "name": "stdout",
          "text": [
            "[5 6 7 8]\n"
          ]
        }
      ]
    },
    {
      "cell_type": "code",
      "source": [
        "# modifying elements using boolean indexing\n",
        "\n",
        "arr = np.array([1,2,3,4,5,6,7,8,9,10,11,12])\n",
        "for i in arr:\n",
        "  print(i+0.25)"
      ],
      "metadata": {
        "colab": {
          "base_uri": "https://localhost:8080/"
        },
        "id": "7rvhTGJV6MgB",
        "outputId": "b7c2a101-5093-4a68-96cb-83c1f2d20ccf"
      },
      "execution_count": 25,
      "outputs": [
        {
          "output_type": "stream",
          "name": "stdout",
          "text": [
            "1.25\n",
            "2.25\n",
            "3.25\n",
            "4.25\n",
            "5.25\n",
            "6.25\n",
            "7.25\n",
            "8.25\n",
            "9.25\n",
            "10.25\n",
            "11.25\n",
            "12.25\n"
          ]
        }
      ]
    },
    {
      "cell_type": "code",
      "source": [
        "arr = np.array([1,2,3,4,5,6,7,8,9,10,11,12])\n",
        "copy_arr = arr.copy()\n",
        "copy_arr[arr%2==0] = 0\n",
        "print(arr)\n",
        "print(copy_arr)\n",
        "\n",
        "for i in copy_arr:\n",
        "  print(i+0.25)"
      ],
      "metadata": {
        "colab": {
          "base_uri": "https://localhost:8080/"
        },
        "id": "g-KhhJgy6Zd0",
        "outputId": "857b04f2-64d2-460d-e086-f2a7fbbdc871"
      },
      "execution_count": 28,
      "outputs": [
        {
          "output_type": "stream",
          "name": "stdout",
          "text": [
            "[ 1  2  3  4  5  6  7  8  9 10 11 12]\n",
            "[ 1  0  3  0  5  0  7  0  9  0 11  0]\n",
            "1.25\n",
            "0.25\n",
            "3.25\n",
            "0.25\n",
            "5.25\n",
            "0.25\n",
            "7.25\n",
            "0.25\n",
            "9.25\n",
            "0.25\n",
            "11.25\n",
            "0.25\n"
          ]
        }
      ]
    },
    {
      "cell_type": "code",
      "source": [],
      "metadata": {
        "id": "FeI14LGN7HBf"
      },
      "execution_count": null,
      "outputs": []
    }
  ]
}
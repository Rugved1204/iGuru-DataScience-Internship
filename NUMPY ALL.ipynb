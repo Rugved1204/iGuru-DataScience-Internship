{
  "nbformat": 4,
  "nbformat_minor": 0,
  "metadata": {
    "colab": {
      "provenance": []
    },
    "kernelspec": {
      "name": "python3",
      "display_name": "Python 3"
    },
    "language_info": {
      "name": "python"
    }
  },
  "cells": [
    {
      "cell_type": "code",
      "execution_count": 1,
      "metadata": {
        "id": "qWnd1H5-x--8",
        "outputId": "ef2905ff-d869-44e5-90a8-53ef8dc2b91c",
        "colab": {
          "base_uri": "https://localhost:8080/",
          "height": 108
        }
      },
      "outputs": [
        {
          "output_type": "execute_result",
          "data": {
            "text/plain": [
              "'\\n\\nNumPy is a Python library used for working with arrays.\\n\\nIt also has functions for working in domain of linear algebra, fourier transform,\\nand matrices.\\n\\nNumPy was created in 2005 by Travis Oliphant. It is an open source project and you\\ncan use it freely.\\n\\nNumPy stands for Numerical Python.\\n\\nWhy Use NumPy?\\n\\nIn Python we have lists that serve the purpose of arrays, but they are slow to process.\\n\\nNumPy aims to provide an array object that is up to 50x faster than traditional Python lists.\\n\\nThe array object in NumPy is called ndarray, it provides a lot of supporting functions\\nthat make working with ndarray very easy.\\n\\nArrays are very frequently used in data science, where speed and resources are very important.\\n\\n'"
            ],
            "application/vnd.google.colaboratory.intrinsic+json": {
              "type": "string"
            }
          },
          "metadata": {},
          "execution_count": 1
        }
      ],
      "source": [
        "  # Data Science Libraries\n",
        "\n",
        "# a.) Numpy\n",
        "# b.) Pandas\n",
        "# c.) Matplotlib\n",
        "# d.) Seaborn\n",
        "\n",
        "# What Is Data Science ?\n",
        "\n",
        "'''\n",
        "Data science is the study of data to extract meaningful insights for business.\n",
        "\n",
        "Data Science is a combination of multiple disciplines that uses statistics,\n",
        "data analysis, and machine learning to analyze data and to extract knowledge and\n",
        "insights from it.\n",
        "\n",
        "Data science is the domain of study that deals with vast volumes of data using\n",
        "modern tools and techniques to find unseen patterns, derive meaningful information,\n",
        "and make business decisions. Data science uses complex machine learning algorithms\n",
        "to build predictive models.\n",
        "\n",
        "Data Science is about data gathering, analysis and decision-making.\n",
        "\n",
        "Data Science is about finding patterns in data, through analysis, and make future predictions.\n",
        "\n",
        "By using Data Science, companies are able to make:\n",
        "\n",
        "Better decisions (should we choose A or B)\n",
        "Predictive analysis (what will happen next?)\n",
        "Pattern discoveries (find pattern, or maybe hidden information in the data)\n",
        "\n",
        "\n",
        "Where is Data Science Needed?\n",
        "\n",
        "Data Science is used in many industries in the world today, e.g. banking,\n",
        "consultancy, healthcare, and manufacturing.\n",
        "\n",
        "Examples of where Data Science is needed:\n",
        "\n",
        "For route planning: To discover the best routes to ship\n",
        "To foresee delays for flight/ship/train etc. (through predictive analysis)\n",
        "To create promotional offers\n",
        "To find the best suited time to deliver goods\n",
        "To forecast the next years revenue for a company\n",
        "To analyze health benefit of training\n",
        "To predict who will win elections\n",
        "\n",
        "'''\n",
        "\n",
        "# Numpy\n",
        "\n",
        "'''\n",
        "\n",
        "NumPy is a Python library used for working with arrays.\n",
        "\n",
        "It also has functions for working in domain of linear algebra, fourier transform,\n",
        "and matrices.\n",
        "\n",
        "NumPy was created in 2005 by Travis Oliphant. It is an open source project and you\n",
        "can use it freely.\n",
        "\n",
        "NumPy stands for Numerical Python.\n",
        "\n",
        "Why Use NumPy?\n",
        "\n",
        "In Python we have lists that serve the purpose of arrays, but they are slow to process.\n",
        "\n",
        "NumPy aims to provide an array object that is up to 50x faster than traditional Python lists.\n",
        "\n",
        "The array object in NumPy is called ndarray, it provides a lot of supporting functions\n",
        "that make working with ndarray very easy.\n",
        "\n",
        "Arrays are very frequently used in data science, where speed and resources are very important.\n",
        "\n",
        "'''"
      ]
    },
    {
      "cell_type": "code",
      "source": [
        "import numpy as np\n",
        "print(np.__version__)"
      ],
      "metadata": {
        "colab": {
          "base_uri": "https://localhost:8080/"
        },
        "id": "wCF949lu2UHN",
        "outputId": "83bde47c-790c-49a3-d58d-f0ba572b58d2"
      },
      "execution_count": 2,
      "outputs": [
        {
          "output_type": "stream",
          "name": "stdout",
          "text": [
            "1.26.4\n"
          ]
        }
      ]
    },
    {
      "cell_type": "code",
      "source": [
        "# array() : used to create 1D or 2D Array\n",
        "arr = np.array([10,20,30,40,50])\n",
        "print(arr)\n",
        "print(type(arr))"
      ],
      "metadata": {
        "colab": {
          "base_uri": "https://localhost:8080/"
        },
        "id": "jqszZwDD6CWC",
        "outputId": "3e8bac3a-cc56-4ff5-95fe-dc71bb8e2d1b"
      },
      "execution_count": 3,
      "outputs": [
        {
          "output_type": "stream",
          "name": "stdout",
          "text": [
            "[10 20 30 40 50]\n",
            "<class 'numpy.ndarray'>\n"
          ]
        }
      ]
    },
    {
      "cell_type": "code",
      "source": [
        "# numpy array vs list\n",
        "list1 = [10,20,30,40,50]\n",
        "print(list1)\n",
        "\n",
        "# multiply each element by 2\n",
        "print(list1*2)\n",
        "\n",
        "for i in list1:\n",
        "  print(i*2)"
      ],
      "metadata": {
        "colab": {
          "base_uri": "https://localhost:8080/"
        },
        "id": "HyhLSueU7KBh",
        "outputId": "4d35ab8f-302e-40d8-e810-496854a923b8"
      },
      "execution_count": 4,
      "outputs": [
        {
          "output_type": "stream",
          "name": "stdout",
          "text": [
            "[10, 20, 30, 40, 50]\n",
            "[10, 20, 30, 40, 50, 10, 20, 30, 40, 50]\n",
            "20\n",
            "40\n",
            "60\n",
            "80\n",
            "100\n"
          ]
        }
      ]
    },
    {
      "cell_type": "code",
      "source": [
        "arr = np.array([10,20,30,40,50])\n",
        "print(arr*2)"
      ],
      "metadata": {
        "colab": {
          "base_uri": "https://localhost:8080/"
        },
        "id": "XylDeTtH79U2",
        "outputId": "1ceca556-93f0-453f-aa25-83ccb2f46ab7"
      },
      "execution_count": 5,
      "outputs": [
        {
          "output_type": "stream",
          "name": "stdout",
          "text": [
            "[ 20  40  60  80 100]\n"
          ]
        }
      ]
    },
    {
      "cell_type": "code",
      "source": [
        "# array is a collection of similar data type\n",
        "arr = np.array([10,56.21,'iGurus',True])\n",
        "print(arr)"
      ],
      "metadata": {
        "colab": {
          "base_uri": "https://localhost:8080/"
        },
        "id": "may0T_qh8jeX",
        "outputId": "dedc33bf-e4a8-47a0-bfa5-eb852bcd3395"
      },
      "execution_count": 6,
      "outputs": [
        {
          "output_type": "stream",
          "name": "stdout",
          "text": [
            "['10' '56.21' 'iGurus' 'True']\n"
          ]
        }
      ]
    },
    {
      "cell_type": "code",
      "source": [
        "# numpy array()\n",
        "arr = np.array([10,20,30,40,50,60])\n",
        "print(arr)"
      ],
      "metadata": {
        "colab": {
          "base_uri": "https://localhost:8080/"
        },
        "id": "jXbsxRE1bEJt",
        "outputId": "85955cb7-93d7-4c8d-f07c-60c6c1b90ba1"
      },
      "execution_count": 7,
      "outputs": [
        {
          "output_type": "stream",
          "name": "stdout",
          "text": [
            "[10 20 30 40 50 60]\n"
          ]
        }
      ]
    },
    {
      "cell_type": "code",
      "source": [
        "# shape property\n",
        "# used to determine the dimensions of an array\n",
        "\n",
        "# for 1D array shape returns (n,)\n",
        "# where n is the number of elements\n",
        "\n",
        "# for 2D array shape returns (n,m)\n",
        "# where n is the number of rows and m is the number of columns\n",
        "\n",
        "print(arr.shape)"
      ],
      "metadata": {
        "colab": {
          "base_uri": "https://localhost:8080/"
        },
        "id": "Umn9Kv2Pbm6T",
        "outputId": "2be63a76-1390-4909-822b-4a57da9ec743"
      },
      "execution_count": 8,
      "outputs": [
        {
          "output_type": "stream",
          "name": "stdout",
          "text": [
            "(6,)\n"
          ]
        }
      ]
    },
    {
      "cell_type": "code",
      "source": [
        "# Indexing and Slicing\n",
        "print(arr)\n",
        "\n",
        "# 10 20 30 40 50 60\n",
        "# 0   1  2  3  4  5\n",
        "# -6  -5 -4 -3 -2 -1\n",
        "\n",
        "print(arr[2])\n",
        "print(arr[-1])\n",
        "\n",
        "print(arr[1:5])\n",
        "\n",
        "# wap to print array elements in a reverse order\n",
        "print(arr[::-1])"
      ],
      "metadata": {
        "colab": {
          "base_uri": "https://localhost:8080/"
        },
        "id": "EOirsYTfc1Zy",
        "outputId": "9b8a0a80-d6f7-4a0d-ccca-df504320906c"
      },
      "execution_count": 9,
      "outputs": [
        {
          "output_type": "stream",
          "name": "stdout",
          "text": [
            "[10 20 30 40 50 60]\n",
            "30\n",
            "60\n",
            "[20 30 40 50]\n",
            "[60 50 40 30 20 10]\n"
          ]
        }
      ]
    },
    {
      "cell_type": "code",
      "source": [
        "# 2D Array\n",
        "arr = np.array([[1,2,3],[4,5,6],[7,8,9]])\n",
        "print(arr)\n",
        "print(arr.shape)\n",
        "\n",
        "arr = np.array([[1,2],[3,4],[5,6],[7,8]])\n",
        "print(arr.shape)"
      ],
      "metadata": {
        "colab": {
          "base_uri": "https://localhost:8080/"
        },
        "id": "1N6nqG3yfFA9",
        "outputId": "24605cc0-eca3-4ea8-9213-c7e4e3852b6f"
      },
      "execution_count": 10,
      "outputs": [
        {
          "output_type": "stream",
          "name": "stdout",
          "text": [
            "[[1 2 3]\n",
            " [4 5 6]\n",
            " [7 8 9]]\n",
            "(3, 3)\n",
            "(4, 2)\n"
          ]
        }
      ]
    },
    {
      "cell_type": "code",
      "source": [
        "# indexing in 2D Array\n",
        "arr = np.array([[1,2,3],[4,5,6],[7,8,9]])\n",
        "print(arr)\n",
        "print(arr.shape)\n",
        "\n",
        "print(arr[0,2])\n",
        "\n",
        "# print the second row\n",
        "print(arr[1,:])\n",
        "\n",
        "# print the third column\n",
        "print(arr[:,2])"
      ],
      "metadata": {
        "colab": {
          "base_uri": "https://localhost:8080/"
        },
        "id": "JU72VikWhMZH",
        "outputId": "d4525491-afcd-4a95-d2d9-58fb61c23b0d"
      },
      "execution_count": 11,
      "outputs": [
        {
          "output_type": "stream",
          "name": "stdout",
          "text": [
            "[[1 2 3]\n",
            " [4 5 6]\n",
            " [7 8 9]]\n",
            "(3, 3)\n",
            "3\n",
            "[4 5 6]\n",
            "[3 6 9]\n"
          ]
        }
      ]
    },
    {
      "cell_type": "code",
      "source": [
        "# dtype property : used to determine the data type of an array\n",
        "arr = np.array([10,20,30,40,50])\n",
        "print(arr.dtype)\n",
        "\n",
        "arr = np.array([10,20,30,40,50],dtype='i2')\n",
        "print(arr.dtype)\n",
        "\n",
        "arr = np.array([10,20,30,40,50],dtype='i1')\n",
        "print(arr.dtype)"
      ],
      "metadata": {
        "colab": {
          "base_uri": "https://localhost:8080/"
        },
        "id": "XFYyvQbCjyyu",
        "outputId": "99f6b225-b0ca-4070-bd42-6abc7c8e2969"
      },
      "execution_count": 12,
      "outputs": [
        {
          "output_type": "stream",
          "name": "stdout",
          "text": [
            "int64\n",
            "int16\n",
            "int8\n"
          ]
        }
      ]
    },
    {
      "cell_type": "code",
      "source": [
        "# astype() --> used to change the data type of an array into another data type\n",
        "\n",
        "arr = np.array([10,20,30])\n",
        "print(arr.dtype)\n",
        "\n",
        "arr = arr.astype('f')  # float64bits   f32bits\n",
        "print(arr.dtype)\n",
        "print(arr)"
      ],
      "metadata": {
        "colab": {
          "base_uri": "https://localhost:8080/"
        },
        "id": "CjQBXyvWj9jG",
        "outputId": "3c222a78-e566-46cc-eff4-85f5d4cabc57"
      },
      "execution_count": 13,
      "outputs": [
        {
          "output_type": "stream",
          "name": "stdout",
          "text": [
            "int64\n",
            "float32\n",
            "[10. 20. 30.]\n"
          ]
        }
      ]
    },
    {
      "cell_type": "code",
      "source": [
        "arr = np.array([10.2,20.3,30.4],dtype='i')\n",
        "print(arr.dtype)\n",
        "print(arr)"
      ],
      "metadata": {
        "colab": {
          "base_uri": "https://localhost:8080/"
        },
        "id": "HL0EwVSLlB8K",
        "outputId": "28037e47-9b2c-443d-9f30-df8c20c620d6"
      },
      "execution_count": 14,
      "outputs": [
        {
          "output_type": "stream",
          "name": "stdout",
          "text": [
            "int32\n",
            "[10 20 30]\n"
          ]
        }
      ]
    },
    {
      "cell_type": "code",
      "source": [
        "# copy()  and  view()\n",
        "# in copy() if you make any changes in original array , it won't effect copied array\n",
        "# and if you make any changes in copied array , it won't effect original array\n",
        "\n",
        "org_arr = np.array([10,20,30,40,50,60])\n",
        "copied_arr = org_arr.copy()\n",
        "\n",
        "print(org_arr)\n",
        "print(copied_arr)\n",
        "\n",
        "copied_arr[1] = 200\n",
        "print('Original Array : ',org_arr)\n",
        "print('Copied Array : ',copied_arr)"
      ],
      "metadata": {
        "colab": {
          "base_uri": "https://localhost:8080/"
        },
        "id": "jGemRQDEl97N",
        "outputId": "bb3d7f90-7351-45dc-d079-39fa95565502"
      },
      "execution_count": 15,
      "outputs": [
        {
          "output_type": "stream",
          "name": "stdout",
          "text": [
            "[10 20 30 40 50 60]\n",
            "[10 20 30 40 50 60]\n",
            "Original Array :  [10 20 30 40 50 60]\n",
            "Copied Array :  [ 10 200  30  40  50  60]\n"
          ]
        }
      ]
    },
    {
      "cell_type": "code",
      "source": [
        "# in view() if you make any changes in original array , it will effect copied array\n",
        "# and if you make any changes in copied array , it will effect original array\n",
        "\n",
        "org_arr = np.array([10,20,30,40,50,60])\n",
        "copied_arr = org_arr.view()\n",
        "\n",
        "print(org_arr)\n",
        "print(copied_arr)\n",
        "\n",
        "copied_arr[1] = 200\n",
        "print('Original Array : ',org_arr)\n",
        "print('Copied Array : ',copied_arr)"
      ],
      "metadata": {
        "colab": {
          "base_uri": "https://localhost:8080/"
        },
        "id": "Hd-xLOlvnoLO",
        "outputId": "02bbea85-8410-4946-d0a6-c0df71d84f28"
      },
      "execution_count": 16,
      "outputs": [
        {
          "output_type": "stream",
          "name": "stdout",
          "text": [
            "[10 20 30 40 50 60]\n",
            "[10 20 30 40 50 60]\n",
            "Original Array :  [ 10 200  30  40  50  60]\n",
            "Copied Array :  [ 10 200  30  40  50  60]\n"
          ]
        }
      ]
    },
    {
      "cell_type": "code",
      "source": [
        "# reshape()\n",
        "# used to change the dimensions of an array\n",
        "\n",
        "# convert 1D into 2D\n",
        "\n",
        "arr = np.array([1,2,3,4,5,6,7,8,9,10,11,12])\n",
        "print(arr.shape)   # 12 -->  2X6  6X2  3X4  4X3  12X1  1X12\n",
        "\n",
        "arr = arr.reshape(2,6)\n",
        "print(arr)\n",
        "print(arr.shape)"
      ],
      "metadata": {
        "colab": {
          "base_uri": "https://localhost:8080/"
        },
        "id": "ogDeWJ7knurG",
        "outputId": "6aca3016-b33a-425f-9e46-a939fbe20300"
      },
      "execution_count": 17,
      "outputs": [
        {
          "output_type": "stream",
          "name": "stdout",
          "text": [
            "(12,)\n",
            "[[ 1  2  3  4  5  6]\n",
            " [ 7  8  9 10 11 12]]\n",
            "(2, 6)\n"
          ]
        }
      ]
    },
    {
      "cell_type": "code",
      "source": [
        "# convert 2D into 1D\n",
        "arr = np.array([[1,2,3],[4,5,6]])\n",
        "print(arr)\n",
        "print(arr.shape)\n",
        "\n",
        "arr = arr.reshape(6)\n",
        "print(arr)\n",
        "print(arr.shape)"
      ],
      "metadata": {
        "colab": {
          "base_uri": "https://localhost:8080/"
        },
        "id": "oo7UWZPTrgGj",
        "outputId": "6cd32ebb-c7e3-4a61-d881-2c9aff157d05"
      },
      "execution_count": 18,
      "outputs": [
        {
          "output_type": "stream",
          "name": "stdout",
          "text": [
            "[[1 2 3]\n",
            " [4 5 6]]\n",
            "(2, 3)\n",
            "[1 2 3 4 5 6]\n",
            "(6,)\n"
          ]
        }
      ]
    },
    {
      "cell_type": "code",
      "source": [
        "arr = np.array([[1,2,3],[4,5,6]])\n",
        "arr = arr.reshape(-1)\n",
        "print(arr)\n",
        "print(arr.shape)"
      ],
      "metadata": {
        "colab": {
          "base_uri": "https://localhost:8080/"
        },
        "id": "4B61fg1Yr1p1",
        "outputId": "b81d12d4-cae3-4a4a-8cad-6f7856f38a33"
      },
      "execution_count": 19,
      "outputs": [
        {
          "output_type": "stream",
          "name": "stdout",
          "text": [
            "[1 2 3 4 5 6]\n",
            "(6,)\n"
          ]
        }
      ]
    },
    {
      "cell_type": "code",
      "source": [
        "arr = np.array([[1,2,3],[4,5,6]])\n",
        "arr = arr.flatten()\n",
        "print(arr)\n",
        "print(arr.shape)"
      ],
      "metadata": {
        "colab": {
          "base_uri": "https://localhost:8080/"
        },
        "id": "mYFiCs0EsmIU",
        "outputId": "2852220f-a1b0-4d05-c148-445b41f0b440"
      },
      "execution_count": 20,
      "outputs": [
        {
          "output_type": "stream",
          "name": "stdout",
          "text": [
            "[1 2 3 4 5 6]\n",
            "(6,)\n"
          ]
        }
      ]
    },
    {
      "cell_type": "code",
      "source": [
        "# Filter an array\n",
        "arr = np.array([1,4,2,7,8,3,9,10,2,4])\n",
        "res = arr > 5\n",
        "print(res)  # BOOLEAN MASKING\n",
        "print(arr[res])"
      ],
      "metadata": {
        "colab": {
          "base_uri": "https://localhost:8080/"
        },
        "id": "fpasdgIVtEmR",
        "outputId": "d14f63e8-9fa0-4884-c289-c10d1dbd626f"
      },
      "execution_count": 21,
      "outputs": [
        {
          "output_type": "stream",
          "name": "stdout",
          "text": [
            "[False False False  True  True False  True  True False False]\n",
            "[ 7  8  9 10]\n"
          ]
        }
      ]
    },
    {
      "cell_type": "code",
      "source": [
        "arr = np.array([1,4,2,7,8,3,9,10,2,4])\n",
        "res = arr%2==0\n",
        "print(res)  # BOOLEAN MASKING\n",
        "print(arr[res])"
      ],
      "metadata": {
        "colab": {
          "base_uri": "https://localhost:8080/"
        },
        "id": "LDvKwn1KuL9g",
        "outputId": "27861d49-bc03-4b09-feff-58cd786b3c28"
      },
      "execution_count": 22,
      "outputs": [
        {
          "output_type": "stream",
          "name": "stdout",
          "text": [
            "[False  True  True False  True False False  True  True  True]\n",
            "[ 4  2  8 10  2  4]\n"
          ]
        }
      ]
    },
    {
      "cell_type": "code",
      "source": [
        "arr = np.array([1,4,2,7,8,3,9,10,2,4])\n",
        "res = (arr > 4) & (arr < 9)\n",
        "print(arr[res])"
      ],
      "metadata": {
        "colab": {
          "base_uri": "https://localhost:8080/"
        },
        "id": "CicRIO2Wu6uI",
        "outputId": "cec8d73a-c0d0-4704-efb9-653b97490ebc"
      },
      "execution_count": 23,
      "outputs": [
        {
          "output_type": "stream",
          "name": "stdout",
          "text": [
            "[7 8]\n"
          ]
        }
      ]
    },
    {
      "cell_type": "code",
      "source": [
        "# Modify Elements Using Boolean Indexing\n",
        "arr = np.array([10,12,15,18,19,21,25,32,35,36])\n",
        "print(arr)\n",
        "copied_arr = arr.copy()\n",
        "copied_arr[arr%2==0] = 0\n",
        "print(copied_arr)"
      ],
      "metadata": {
        "colab": {
          "base_uri": "https://localhost:8080/"
        },
        "id": "9IfI_NcgvlXE",
        "outputId": "d119f4c9-e8d7-4e15-c162-27aaa78e2c28"
      },
      "execution_count": 24,
      "outputs": [
        {
          "output_type": "stream",
          "name": "stdout",
          "text": [
            "[10 12 15 18 19 21 25 32 35 36]\n",
            "[ 0  0 15  0 19 21 25  0 35  0]\n"
          ]
        }
      ]
    },
    {
      "cell_type": "code",
      "source": [
        "# where()  -->  used to return indexNumbers in an output\n",
        "arr = np.array([1,4,2,7,8,3,9,10,2,4])\n",
        "res = np.where(arr>5)\n",
        "print(res)"
      ],
      "metadata": {
        "colab": {
          "base_uri": "https://localhost:8080/"
        },
        "id": "f-d0eRLOtuB4",
        "outputId": "a8775eda-6a39-42e8-9ec6-5a5905e4c7da"
      },
      "execution_count": 25,
      "outputs": [
        {
          "output_type": "stream",
          "name": "stdout",
          "text": [
            "(array([3, 4, 6, 7]),)\n"
          ]
        }
      ]
    },
    {
      "cell_type": "code",
      "source": [
        "arr = np.array([1,4,2,7,8,3,9,10,2,4])\n",
        "res = np.where(arr>5)\n",
        "print(arr[res])"
      ],
      "metadata": {
        "colab": {
          "base_uri": "https://localhost:8080/"
        },
        "id": "W9U0fmDVumZy",
        "outputId": "fb898a32-d7ae-4e6f-cd8e-5877b3da4583"
      },
      "execution_count": 26,
      "outputs": [
        {
          "output_type": "stream",
          "name": "stdout",
          "text": [
            "[ 7  8  9 10]\n"
          ]
        }
      ]
    },
    {
      "cell_type": "code",
      "source": [
        "# concatenate()\n",
        "arr1 = np.array([1,2,3,4])\n",
        "arr2 = np.array([5,6,7,8])\n",
        "arr = np.concatenate((arr1,arr2))\n",
        "print(arr)"
      ],
      "metadata": {
        "colab": {
          "base_uri": "https://localhost:8080/"
        },
        "id": "6PjyMKUlvKWD",
        "outputId": "24a9c22b-83f9-4eae-cf24-a4395bf1a9bb"
      },
      "execution_count": 27,
      "outputs": [
        {
          "output_type": "stream",
          "name": "stdout",
          "text": [
            "[1 2 3 4 5 6 7 8]\n"
          ]
        }
      ]
    },
    {
      "cell_type": "code",
      "source": [
        "arr1 = np.array([[1,2],[3,4]])\n",
        "arr2 = np.array([[5,6],[7,8],[9,10]])\n",
        "arr = np.concatenate((arr1,arr2))\n",
        "print(arr)"
      ],
      "metadata": {
        "colab": {
          "base_uri": "https://localhost:8080/"
        },
        "id": "LKhxVsubvwRo",
        "outputId": "8d02471a-dfa3-43bd-cc43-3ef7dfec5c9f"
      },
      "execution_count": 28,
      "outputs": [
        {
          "output_type": "stream",
          "name": "stdout",
          "text": [
            "[[ 1  2]\n",
            " [ 3  4]\n",
            " [ 5  6]\n",
            " [ 7  8]\n",
            " [ 9 10]]\n"
          ]
        }
      ]
    },
    {
      "cell_type": "code",
      "source": [
        "# array_split(arrayName,splitValue)\n",
        "arr1 = np.array([1,2,3,4,5,6,7,8,9,10,11,12,13])\n",
        "arr = np.array_split(arr1,3)\n",
        "print(arr)"
      ],
      "metadata": {
        "colab": {
          "base_uri": "https://localhost:8080/"
        },
        "id": "1tAsyr9YwpcQ",
        "outputId": "05282b83-2510-4a24-e4de-51edce57941e"
      },
      "execution_count": 29,
      "outputs": [
        {
          "output_type": "stream",
          "name": "stdout",
          "text": [
            "[array([1, 2, 3, 4, 5]), array([6, 7, 8, 9]), array([10, 11, 12, 13])]\n"
          ]
        }
      ]
    },
    {
      "cell_type": "code",
      "source": [
        "# sorting of an array\n",
        "# sort()\n",
        "\n",
        "arr = np.array([1,4,2,7,9,3,5,8,6,10])\n",
        "print(np.sort(arr))   # by default it will sort the array in ascending order"
      ],
      "metadata": {
        "colab": {
          "base_uri": "https://localhost:8080/"
        },
        "id": "E3J7dSboxuc1",
        "outputId": "091f180d-7e7a-4954-9559-4e063770a641"
      },
      "execution_count": 30,
      "outputs": [
        {
          "output_type": "stream",
          "name": "stdout",
          "text": [
            "[ 1  2  3  4  5  6  7  8  9 10]\n"
          ]
        }
      ]
    },
    {
      "cell_type": "code",
      "source": [
        "arr = np.array([1,4,2,7,9,3,5,8,6,10])\n",
        "print(np.sort(arr)[::-1]) # descending order"
      ],
      "metadata": {
        "colab": {
          "base_uri": "https://localhost:8080/"
        },
        "id": "p9NZ9U58yQ6x",
        "outputId": "ad67b5ad-102d-4702-fa0e-80cd41ed492e"
      },
      "execution_count": 31,
      "outputs": [
        {
          "output_type": "stream",
          "name": "stdout",
          "text": [
            "[10  9  8  7  6  5  4  3  2  1]\n"
          ]
        }
      ]
    },
    {
      "cell_type": "code",
      "source": [
        "# zeros() it will fill an array with 0's\n",
        "# default data type is FLOAT\n",
        "\n",
        "# 1D array\n",
        "arr = np.zeros(7)\n",
        "print(arr)"
      ],
      "metadata": {
        "colab": {
          "base_uri": "https://localhost:8080/"
        },
        "id": "BK8wVe8zy80A",
        "outputId": "fceaa151-2e41-4a32-e422-fd70ccbff7e0"
      },
      "execution_count": 32,
      "outputs": [
        {
          "output_type": "stream",
          "name": "stdout",
          "text": [
            "[0. 0. 0. 0. 0. 0. 0.]\n"
          ]
        }
      ]
    },
    {
      "cell_type": "code",
      "source": [
        "# 2D array\n",
        "arr = np.zeros((3,3),dtype='i')\n",
        "print(arr)"
      ],
      "metadata": {
        "colab": {
          "base_uri": "https://localhost:8080/"
        },
        "id": "5M4WkTdxz_Wl",
        "outputId": "85c12e9a-ab2f-42a5-b79c-97df280c4a90"
      },
      "execution_count": 33,
      "outputs": [
        {
          "output_type": "stream",
          "name": "stdout",
          "text": [
            "[[0 0 0]\n",
            " [0 0 0]\n",
            " [0 0 0]]\n"
          ]
        }
      ]
    },
    {
      "cell_type": "code",
      "source": [
        "# ones() it will fill an array with 1's\n",
        "# default data type is FLOAT\n",
        "\n",
        "# 1D array\n",
        "arr = np.ones(7)\n",
        "print(arr)"
      ],
      "metadata": {
        "colab": {
          "base_uri": "https://localhost:8080/"
        },
        "id": "lJHMGIUi0yWt",
        "outputId": "acc10967-6b3c-47e0-809c-23400039077b"
      },
      "execution_count": 34,
      "outputs": [
        {
          "output_type": "stream",
          "name": "stdout",
          "text": [
            "[1. 1. 1. 1. 1. 1. 1.]\n"
          ]
        }
      ]
    },
    {
      "cell_type": "code",
      "source": [
        "# full(size,constantValue)\n",
        "# used to fill an array with a constant value\n",
        "\n",
        "x = np.full(9,121)\n",
        "print(x)"
      ],
      "metadata": {
        "colab": {
          "base_uri": "https://localhost:8080/"
        },
        "id": "nxQ0AqI01Q3L",
        "outputId": "ff746e12-ae39-4143-e0bd-36f19b8fcd06"
      },
      "execution_count": 35,
      "outputs": [
        {
          "output_type": "stream",
          "name": "stdout",
          "text": [
            "[121 121 121 121 121 121 121 121 121]\n"
          ]
        }
      ]
    },
    {
      "cell_type": "code",
      "source": [
        "x = np.full((3,4),24)\n",
        "print(x)"
      ],
      "metadata": {
        "colab": {
          "base_uri": "https://localhost:8080/"
        },
        "id": "GD8cIV-T1rty",
        "outputId": "090fcdcc-fd0b-40a8-8c5e-1f320a6a916d"
      },
      "execution_count": 36,
      "outputs": [
        {
          "output_type": "stream",
          "name": "stdout",
          "text": [
            "[[24 24 24 24]\n",
            " [24 24 24 24]\n",
            " [24 24 24 24]]\n"
          ]
        }
      ]
    },
    {
      "cell_type": "code",
      "source": [
        "# sum()\n",
        "print(np.sum(x))"
      ],
      "metadata": {
        "colab": {
          "base_uri": "https://localhost:8080/"
        },
        "id": "owdLioQQ2UMx",
        "outputId": "0daeb523-c972-4a99-d6b3-f1030a5ad1e7"
      },
      "execution_count": 37,
      "outputs": [
        {
          "output_type": "stream",
          "name": "stdout",
          "text": [
            "288\n"
          ]
        }
      ]
    },
    {
      "cell_type": "code",
      "source": [
        "# Numpy Random Module\n",
        "from numpy import random\n",
        "x = random.randint(100)\n",
        "print(x)"
      ],
      "metadata": {
        "colab": {
          "base_uri": "https://localhost:8080/"
        },
        "id": "Yry94Eg1257D",
        "outputId": "8f359c01-af3f-4d03-c132-cfa95bed6f46"
      },
      "execution_count": 38,
      "outputs": [
        {
          "output_type": "stream",
          "name": "stdout",
          "text": [
            "57\n"
          ]
        }
      ]
    },
    {
      "cell_type": "code",
      "source": [
        "x = random.randint(120,150)\n",
        "print(x)"
      ],
      "metadata": {
        "colab": {
          "base_uri": "https://localhost:8080/"
        },
        "id": "pKKDPEP63kXs",
        "outputId": "c9dee64d-02e0-4643-f5d3-e86286c82d53"
      },
      "execution_count": 39,
      "outputs": [
        {
          "output_type": "stream",
          "name": "stdout",
          "text": [
            "129\n"
          ]
        }
      ]
    },
    {
      "cell_type": "code",
      "source": [
        "# rand() method generate a random float value b/w 0 and 1\n",
        "x = random.rand()\n",
        "print(x)"
      ],
      "metadata": {
        "colab": {
          "base_uri": "https://localhost:8080/"
        },
        "id": "VYDyec9O3xkH",
        "outputId": "5b6b3e67-8d43-4f0a-bca8-12cd657d413d"
      },
      "execution_count": 40,
      "outputs": [
        {
          "output_type": "stream",
          "name": "stdout",
          "text": [
            "0.9219464302346463\n"
          ]
        }
      ]
    },
    {
      "cell_type": "code",
      "source": [
        "arr = random.randint(100,size=(8))\n",
        "print(arr)"
      ],
      "metadata": {
        "colab": {
          "base_uri": "https://localhost:8080/"
        },
        "id": "tWvt-Jzt4p1i",
        "outputId": "3b9d08cf-1ac6-44dd-d542-01ee7292bcd7"
      },
      "execution_count": 41,
      "outputs": [
        {
          "output_type": "stream",
          "name": "stdout",
          "text": [
            "[20 49 81 57 11 69 63 70]\n"
          ]
        }
      ]
    },
    {
      "cell_type": "code",
      "source": [
        "arr = random.randint(20,50,size=(4,5))\n",
        "print(arr)"
      ],
      "metadata": {
        "colab": {
          "base_uri": "https://localhost:8080/"
        },
        "id": "5GylGHh848hl",
        "outputId": "42947931-1826-4325-cedb-600d38f499b7"
      },
      "execution_count": 42,
      "outputs": [
        {
          "output_type": "stream",
          "name": "stdout",
          "text": [
            "[[46 43 33 45 47]\n",
            " [33 28 20 31 38]\n",
            " [22 34 39 32 36]\n",
            " [28 39 48 46 41]]\n"
          ]
        }
      ]
    },
    {
      "cell_type": "code",
      "source": [
        "x = random.rand(5)\n",
        "print(x)"
      ],
      "metadata": {
        "colab": {
          "base_uri": "https://localhost:8080/"
        },
        "id": "bDTw5N9V5d0b",
        "outputId": "e7d6f048-c192-4da9-bd20-d0d9893f77a8"
      },
      "execution_count": 43,
      "outputs": [
        {
          "output_type": "stream",
          "name": "stdout",
          "text": [
            "[0.28651445 0.36178544 0.52133807 0.53170176 0.04946584]\n"
          ]
        }
      ]
    },
    {
      "cell_type": "code",
      "source": [
        "x = random.rand(3,3)\n",
        "print(x)"
      ],
      "metadata": {
        "colab": {
          "base_uri": "https://localhost:8080/"
        },
        "id": "2rWlwhp85nyZ",
        "outputId": "bfc89c57-d79f-44fc-863e-89556b17fdfe"
      },
      "execution_count": 44,
      "outputs": [
        {
          "output_type": "stream",
          "name": "stdout",
          "text": [
            "[[0.61968972 0.00617838 0.33975722]\n",
            " [0.69237231 0.33215066 0.82842771]\n",
            " [0.52584758 0.22091764 0.08271965]]\n"
          ]
        }
      ]
    },
    {
      "cell_type": "code",
      "source": [
        "# Numpy Broadcasting\n",
        "arr1 = np.array([2,3,4])\n",
        "arr2 = np.array([7,6,8])\n",
        "print(arr1 + arr2)\n",
        "print(arr1 * arr2)"
      ],
      "metadata": {
        "colab": {
          "base_uri": "https://localhost:8080/"
        },
        "id": "mNPMbGti6Ndb",
        "outputId": "eac7c56a-f5c2-44ba-c79a-371ac263e964"
      },
      "execution_count": 45,
      "outputs": [
        {
          "output_type": "stream",
          "name": "stdout",
          "text": [
            "[ 9  9 12]\n",
            "[14 18 32]\n"
          ]
        }
      ]
    },
    {
      "cell_type": "code",
      "source": [
        "# if arrays are of diff dimensions\n",
        "arr1 = np.array([2,3,4])\n",
        "arr2 = np.array([7,6])\n",
        "print(arr1 * arr2)"
      ],
      "metadata": {
        "colab": {
          "base_uri": "https://localhost:8080/",
          "height": 182
        },
        "id": "ZxuqKu8u6mcF",
        "outputId": "25f2977f-5a4f-46da-fcb0-676fcdcfd554"
      },
      "execution_count": 46,
      "outputs": [
        {
          "output_type": "error",
          "ename": "ValueError",
          "evalue": "operands could not be broadcast together with shapes (3,) (2,) ",
          "traceback": [
            "\u001b[0;31m---------------------------------------------------------------------------\u001b[0m",
            "\u001b[0;31mValueError\u001b[0m                                Traceback (most recent call last)",
            "\u001b[0;32m<ipython-input-46-45ace50b05af>\u001b[0m in \u001b[0;36m<cell line: 0>\u001b[0;34m()\u001b[0m\n\u001b[1;32m      2\u001b[0m \u001b[0marr1\u001b[0m \u001b[0;34m=\u001b[0m \u001b[0mnp\u001b[0m\u001b[0;34m.\u001b[0m\u001b[0marray\u001b[0m\u001b[0;34m(\u001b[0m\u001b[0;34m[\u001b[0m\u001b[0;36m2\u001b[0m\u001b[0;34m,\u001b[0m\u001b[0;36m3\u001b[0m\u001b[0;34m,\u001b[0m\u001b[0;36m4\u001b[0m\u001b[0;34m]\u001b[0m\u001b[0;34m)\u001b[0m\u001b[0;34m\u001b[0m\u001b[0;34m\u001b[0m\u001b[0m\n\u001b[1;32m      3\u001b[0m \u001b[0marr2\u001b[0m \u001b[0;34m=\u001b[0m \u001b[0mnp\u001b[0m\u001b[0;34m.\u001b[0m\u001b[0marray\u001b[0m\u001b[0;34m(\u001b[0m\u001b[0;34m[\u001b[0m\u001b[0;36m7\u001b[0m\u001b[0;34m,\u001b[0m\u001b[0;36m6\u001b[0m\u001b[0;34m]\u001b[0m\u001b[0;34m)\u001b[0m\u001b[0;34m\u001b[0m\u001b[0;34m\u001b[0m\u001b[0m\n\u001b[0;32m----> 4\u001b[0;31m \u001b[0mprint\u001b[0m\u001b[0;34m(\u001b[0m\u001b[0marr1\u001b[0m \u001b[0;34m*\u001b[0m \u001b[0marr2\u001b[0m\u001b[0;34m)\u001b[0m\u001b[0;34m\u001b[0m\u001b[0;34m\u001b[0m\u001b[0m\n\u001b[0m",
            "\u001b[0;31mValueError\u001b[0m: operands could not be broadcast together with shapes (3,) (2,) "
          ]
        }
      ]
    },
    {
      "cell_type": "code",
      "source": [
        "arr1 = np.array([2,3,4])\n",
        "arr2 = np.array([7])       # 7 7 7\n",
        "print(arr1 * arr2)"
      ],
      "metadata": {
        "id": "2MDGuoRw7UG6"
      },
      "execution_count": null,
      "outputs": []
    }
  ]
}
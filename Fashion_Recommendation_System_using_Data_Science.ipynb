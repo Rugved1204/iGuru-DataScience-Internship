{
  "nbformat": 4,
  "nbformat_minor": 0,
  "metadata": {
    "colab": {
      "provenance": []
    },
    "kernelspec": {
      "name": "python3",
      "display_name": "Python 3"
    },
    "language_info": {
      "name": "python"
    }
  },
  "cells": [
    {
      "cell_type": "code",
      "source": [
        "import pandas as pd\n",
        "!pip install tabulate\n",
        "\n",
        "# Load the dataset\n",
        "df = pd.read_csv('/content/Myntra_fashion_products.csv')\n",
        "\n",
        "# Check the first few rows\n",
        "print(df.head())"
      ],
      "metadata": {
        "colab": {
          "base_uri": "https://localhost:8080/"
        },
        "id": "sfhycOJ0KC4z",
        "outputId": "d4b81715-a4a3-4c5c-f707-2286200fc759"
      },
      "execution_count": 34,
      "outputs": [
        {
          "output_type": "stream",
          "name": "stdout",
          "text": [
            "Requirement already satisfied: tabulate in /usr/local/lib/python3.11/dist-packages (0.9.0)\n",
            "                                                name       sku       mpn  \\\n",
            "0  DKNY Unisex Black & Grey Printed Medium Trolle...  10017413  10017413   \n",
            "1  EthnoVogue Women Beige & Grey Made to Measure ...  10016283  10016283   \n",
            "2  SPYKAR Women Pink Alexa Super Skinny Fit High-...  10009781  10009781   \n",
            "3  Raymond Men Blue Self-Design Single-Breasted B...  10015921  10015921   \n",
            "4  Parx Men Brown & Off-White Slim Fit Printed Ca...  10017833  10017833   \n",
            "\n",
            "   price  in_stock currency       brand  \\\n",
            "0  11745      True      INR        DKNY   \n",
            "1   5810      True      INR  EthnoVogue   \n",
            "2    899      True      INR      SPYKAR   \n",
            "3   5599      True      INR     Raymond   \n",
            "4    759      True      INR        Parx   \n",
            "\n",
            "                                         description  \\\n",
            "0  Black and grey printed medium trolley bag, sec...   \n",
            "1  Beige & Grey made to measure kurta with churid...   \n",
            "2  Pink coloured wash 5-pocket high-rise cropped ...   \n",
            "3  Blue self-design bandhgala suitBlue self-desig...   \n",
            "4  Brown and off-white printed casual shirt, has ...   \n",
            "\n",
            "                                              images  gender  \n",
            "0  http://assets.myntassets.com/assets/images/100...  Unisex  \n",
            "1  http://assets.myntassets.com/assets/images/100...   Women  \n",
            "2  http://assets.myntassets.com/assets/images/100...   Women  \n",
            "3  http://assets.myntassets.com/assets/images/pro...     Men  \n",
            "4  http://assets.myntassets.com/assets/images/pro...     Men  \n"
          ]
        }
      ]
    },
    {
      "cell_type": "code",
      "source": [
        "import pandas as pd\n",
        "from sklearn.feature_extraction.text import TfidfVectorizer\n",
        "from sklearn.metrics.pairwise import cosine_similarity\n",
        "\n",
        "# Load dataset\n",
        "df = pd.read_csv('/content/Myntra_fashion_products.csv')\n",
        "\n",
        "# Data Preprocessing\n",
        "df.loc[:, 'price'] = pd.to_numeric(df['price'], errors='coerce')\n",
        "df = df.dropna(subset=['description', 'price', 'brand', 'gender'])\n",
        "df.reset_index(drop=True, inplace=True)\n",
        "\n",
        "# TF-IDF Vectorizer for product descriptions\n",
        "tfidf = TfidfVectorizer(stop_words='english')\n",
        "tfidf_matrix = tfidf.fit_transform(df['description'])\n",
        "cosine_sim = cosine_similarity(tfidf_matrix, tfidf_matrix)\n",
        "\n",
        "# Function to get user preferences\n",
        "def get_user_preferences():\n",
        "    print(\"Please enter your preferences:\")\n",
        "    brand = input(\"Enter the preferred brand (or leave blank to skip): \")\n",
        "    gender = input(\"Enter the gender preference (Men/Women/Unisex): \")\n",
        "    min_price = float(input(\"Enter minimum price: \"))\n",
        "    max_price = float(input(\"Enter maximum price: \"))\n",
        "\n",
        "    filtered_df = df[(df['price'] >= min_price) & (df['price'] <= max_price)]\n",
        "\n",
        "    if brand:\n",
        "        filtered_df = filtered_df[filtered_df['brand'].str.contains(brand, case=False)]\n",
        "    if gender:\n",
        "        filtered_df = filtered_df[filtered_df['gender'].str.contains(gender, case=False)]\n",
        "\n",
        "    return filtered_df\n",
        "\n",
        "# Function to recommend products based on cosine similarity\n",
        "def recommend_product(product_idx, cosine_sim=cosine_sim, num_recommendations=5):\n",
        "    sim_scores = list(enumerate(cosine_sim[product_idx]))\n",
        "    sim_scores = sorted(sim_scores, key=lambda x: x[1], reverse=True)\n",
        "    sim_scores = sim_scores[1:num_recommendations+1]\n",
        "    product_indices = [x[0] for x in sim_scores]\n",
        "    return df.iloc[product_indices][['name', 'brand', 'price', 'description', 'gender']]"
      ],
      "metadata": {
        "id": "u_mr-XGWKwpp"
      },
      "execution_count": 35,
      "outputs": []
    },
    {
      "cell_type": "code",
      "source": [
        "def get_user_preferences():\n",
        "    print(\"Please enter your preferences:\")\n",
        "\n",
        "    brand = input(\"Enter the preferred brand (or leave blank to skip): \").strip()\n",
        "    gender = input(\"Enter the gender preference (Men/Women/Unisex): \").strip().lower()\n",
        "    min_price = float(input(\"Enter minimum price: \"))\n",
        "    max_price = float(input(\"Enter maximum price: \"))\n",
        "    clothing_type = input(\"Enter the type of clothing you're looking for (e.g., shoes, shirts, kurtas, pants, etc.): \").strip().lower()\n",
        "    occasion = input(\"Enter the occasion you're shopping for (e.g., casual, formal, party, etc.): \").strip().lower()\n",
        "\n",
        "    # Initial strict filtering\n",
        "    filtered_df = df[\n",
        "        (df['price'] >= min_price) &\n",
        "        (df['price'] <= max_price)\n",
        "    ]\n",
        "    if brand:\n",
        "        filtered_df = filtered_df[filtered_df['brand'].str.contains(brand, case=False)]\n",
        "    if gender:\n",
        "        filtered_df = filtered_df[filtered_df['gender'].str.lower() == gender]\n",
        "    if clothing_type:\n",
        "        filtered_df = filtered_df[filtered_df['description'].str.contains(clothing_type, case=False)]\n",
        "    if occasion:\n",
        "        filtered_df = filtered_df[filtered_df['description'].str.contains(occasion, case=False)]\n",
        "\n",
        "    if not filtered_df.empty:\n",
        "        return filtered_df, True  # True = exact match\n",
        "\n",
        "    # Fallback - loosen filters for suggestions\n",
        "    suggestion_df = df.copy()\n",
        "    if brand:\n",
        "        suggestion_df = suggestion_df[suggestion_df['brand'].str.contains(brand, case=False)]\n",
        "    if gender:\n",
        "        suggestion_df = suggestion_df[suggestion_df['gender'].str.lower() == gender]\n",
        "    if clothing_type:\n",
        "        suggestion_df = suggestion_df[suggestion_df['description'].str.contains(clothing_type, case=False)]\n",
        "\n",
        "    suggestion_df = suggestion_df.sort_values(by='price').head(10)  # Suggest top 10 by price\n",
        "    return suggestion_df, False  # False = suggestions\n",
        "\n"
      ],
      "metadata": {
        "id": "vTMiwyrRLhIN"
      },
      "execution_count": 36,
      "outputs": []
    },
    {
      "cell_type": "code",
      "source": [
        "# Run preference gathering\n",
        "user_filtered_df, is_strict_match = get_user_preferences()\n",
        "\n",
        "if not user_filtered_df.empty:\n",
        "    table = tabulate(\n",
        "        user_filtered_df[['name', 'brand', 'price', 'gender', 'description']],\n",
        "        headers='keys', tablefmt='pipe', showindex=False\n",
        "    )\n",
        "    if is_strict_match:\n",
        "        print(\"\\n🎯 Filtered Products based on your preferences:\")\n",
        "    else:\n",
        "        print(\"\\n🔍 No exact match found. Here are some suggestions you might like:\")\n",
        "    print(table)\n",
        "else:\n",
        "    print(\"Sorry! Couldn't find any products or suggestions at the moment.\")\n"
      ],
      "metadata": {
        "colab": {
          "base_uri": "https://localhost:8080/"
        },
        "id": "CM10fOV-PICY",
        "outputId": "758bca15-1bcd-4064-c1ef-4d96ddbd8f29"
      },
      "execution_count": 37,
      "outputs": [
        {
          "output_type": "stream",
          "name": "stdout",
          "text": [
            "Please enter your preferences:\n",
            "Enter the preferred brand (or leave blank to skip): \n",
            "Enter the gender preference (Men/Women/Unisex): MEN\n",
            "Enter minimum price: 511\n",
            "Enter maximum price: 56\n",
            "Enter the type of clothing you're looking for (e.g., shoes, shirts, kurtas, pants, etc.): shirts\n",
            "Enter the occasion you're shopping for (e.g., casual, formal, party, etc.): casual\n",
            "\n",
            "🔍 No exact match found. Here are some suggestions you might like:\n",
            "| name                                  | brand   |   price | gender   | description                                                                                                                                     |\n",
            "|:--------------------------------------|:--------|--------:|:---------|:------------------------------------------------------------------------------------------------------------------------------------------------|\n",
            "| UCLA Men Pack of 3 Round Neck T-shirt | UCLA    |    1299 | Men      | Pack of three T-shirtsTwo White and Grey striped T-shirt, has a round neck, and short sleevesWhite solid T-shirt, has round neck, short sleeves |\n"
          ]
        }
      ]
    }
  ]
}
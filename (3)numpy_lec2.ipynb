{
  "cells": [
    {
      "cell_type": "code",
      "execution_count": 2,
      "metadata": {
        "colab": {
          "base_uri": "https://localhost:8080/"
        },
        "id": "21_DifetfvHf",
        "outputId": "21ae2979-a5b6-4a6b-f4e2-5d0e8af4a043"
      },
      "outputs": [
        {
          "name": "stdout",
          "output_type": "stream",
          "text": [
            "1.26.4\n"
          ]
        }
      ],
      "source": [
        "import numpy as np\n",
        "print(np.__version__)"
      ]
    },
    {
      "cell_type": "code",
      "execution_count": 9,
      "metadata": {
        "colab": {
          "base_uri": "https://localhost:8080/"
        },
        "id": "xoepaOibgOys",
        "outputId": "8c4f5ef4-d3aa-46aa-f979-8287aebd76bf"
      },
      "outputs": [
        {
          "name": "stdout",
          "output_type": "stream",
          "text": [
            "[1 2 3 4 5 6 7 8 9]\n"
          ]
        }
      ],
      "source": [
        "#numpy-array()\n",
        "arr = np.array([1,2,3,4,5,6,7,8,9]) #one-dimensional array\n",
        "print(arr)"
      ]
    },
    {
      "cell_type": "code",
      "execution_count": 10,
      "metadata": {
        "colab": {
          "base_uri": "https://localhost:8080/"
        },
        "id": "ftg0Md4rglr1",
        "outputId": "ed589ea0-f7f3-456c-e506-ddd31d73be68"
      },
      "outputs": [
        {
          "name": "stdout",
          "output_type": "stream",
          "text": [
            "(9,)\n"
          ]
        }
      ],
      "source": [
        "# while using methods we use () , while property we only use name of it\n",
        "# shape property - used to determine dimensions of an array\n",
        "\n",
        "# for 1D arrray shape returns (n, )\n",
        "# where n is the numeber of elements\n",
        "\n",
        "# for 2D array shape returns ( n,m )\n",
        "# where n is no. of rows and m is no. of columns\n",
        "\n",
        "print(arr.shape)"
      ]
    },
    {
      "cell_type": "code",
      "execution_count": 14,
      "metadata": {
        "colab": {
          "base_uri": "https://localhost:8080/"
        },
        "id": "hCsdBvJKhFGa",
        "outputId": "ffc03867-45dc-454e-a9ce-a37872733dd2"
      },
      "outputs": [
        {
          "name": "stdout",
          "output_type": "stream",
          "text": [
            "[1 2 3 4 5 6 7 8 9]\n",
            "2\n",
            "9\n",
            "[2 3 4]\n",
            "[5 6 7 8 9]\n",
            "[1 2 3 4]\n",
            "[9 8 7 6 5 4 3 2 1]\n"
          ]
        }
      ],
      "source": [
        "# Indexing- used to retrieve single information from array3\n",
        "print(arr)\n",
        "\n",
        "# 1  2  3 ... the numbers in array are saved as\n",
        "# 0  1  2 ... these are the index numbers\n",
        "#-3 -2 -1 ... these can be negative too\n",
        "\n",
        "print(arr[1])\n",
        "print(arr[-1])\n",
        "\n",
        "#slicing- used to retrieve multiple information from array\n",
        "print(arr[1:4])\n",
        "print(arr[4:])\n",
        "print(arr[:4])\n",
        "\n",
        "#write a program to print array elements in reverse order\n",
        "print(arr[::-1])"
      ]
    },
    {
      "cell_type": "code",
      "execution_count": 30,
      "metadata": {
        "colab": {
          "base_uri": "https://localhost:8080/"
        },
        "id": "Tpqf-IKJh4sT",
        "outputId": "2bd1a9ae-5721-4360-fb64-dfcb4499315b"
      },
      "outputs": [
        {
          "name": "stdout",
          "output_type": "stream",
          "text": [
            "[[1 2 3]\n",
            " [4 5 6]\n",
            " [7 8 9]]\n",
            "(3, 3)\n",
            "(3, 3)\n",
            "2\n",
            "(3, 3)\n",
            "[4 5 6]\n",
            "[3 6 9]\n"
          ]
        }
      ],
      "source": [
        "#  2-D array\n",
        "arr = np.array([[1,2,3],[4,5,6],[7,8,9]])\n",
        "print(arr)\n",
        "print(arr.shape)\n",
        "\n",
        "# for creating a array of 2x3 martix\n",
        "# focus on 2 first, create 2 [] in array\n",
        "# now in these [], you can enter max 3 elements\n",
        "np.array([[1,2,3],[4,5,6]])\n",
        "print(arr.shape)\n",
        "print(arr[0,1]) #indexing in 2d array\n",
        "\n",
        "#similarly for 4x3 martix\n",
        "# then create 4 [] and max 3 elements in it\n",
        "np.array([[1,2,3],[4,2,5],[7,4,9],[8,7,9]])\n",
        "print(arr.shape)\n",
        "print(arr[1,:]) #print second row\n",
        "print(arr[:,2]) #print third column"
      ]
    },
    {
      "cell_type": "code",
      "execution_count": 34,
      "metadata": {
        "colab": {
          "base_uri": "https://localhost:8080/"
        },
        "id": "9rU7zOPejuYW",
        "outputId": "220a9167-9515-44f6-a8cd-be1dbe372593"
      },
      "outputs": [
        {
          "name": "stdout",
          "output_type": "stream",
          "text": [
            "int64\n",
            "int16\n",
            "int8\n"
          ]
        }
      ],
      "source": [
        "#dtype proprty - used to determine datatype of array\n",
        "arr = np.array([1,2,3,4,5,6,7,8,9])\n",
        "print(arr.dtype)   #output shows int64 that is each element in array can be of max 64 bits\n",
        "\n",
        "arr = np.array([1,2,3,4,5,6,7,8,9], dtype='i2') #this only uses 16 bits of space\n",
        "print(arr.dtype)\n",
        "\n",
        "arr = np.array([1,2,3,4,5,6,7,8,9], dtype='i1') #this only uses 8 bits of space\n",
        "print(arr.dtype)"
      ]
    },
    {
      "cell_type": "code",
      "execution_count": 5,
      "metadata": {
        "id": "HCbWHVaLpLEI"
      },
      "outputs": [
        {
          "name": "stdout",
          "output_type": "stream",
          "text": [
            "int32\n",
            "float64\n",
            "[10. 20. 30.]\n"
          ]
        }
      ],
      "source": [
        "# astype() - used to change datatype of array into another data type\n",
        "\n",
        "arr = np.array([10,20,30])\n",
        "print(arr.dtype)\n",
        "\n",
        "arr = arr.astype('float')\n",
        "print(arr.dtype)\n",
        "print(arr )"
      ]
    },
    {
      "cell_type": "code",
      "execution_count": 8,
      "metadata": {},
      "outputs": [
        {
          "name": "stdout",
          "output_type": "stream",
          "text": [
            "[10.2 15.4 19.7  2.4]\n",
            "[10 15 19  2]\n"
          ]
        }
      ],
      "source": [
        "arr = np.array([10.2,15.4,19.7,2.4])\n",
        "print(arr)\n",
        "arr = arr.astype('int')\n",
        "print(arr)\n"
      ]
    },
    {
      "cell_type": "code",
      "execution_count": null,
      "metadata": {},
      "outputs": [],
      "source": [
        "# copy() and view()\n"
      ]
    }
  ],
  "metadata": {
    "colab": {
      "provenance": []
    },
    "kernelspec": {
      "display_name": "base",
      "language": "python",
      "name": "python3"
    },
    "language_info": {
      "codemirror_mode": {
        "name": "ipython",
        "version": 3
      },
      "file_extension": ".py",
      "mimetype": "text/x-python",
      "name": "python",
      "nbconvert_exporter": "python",
      "pygments_lexer": "ipython3",
      "version": "3.12.7"
    }
  },
  "nbformat": 4,
  "nbformat_minor": 0
}

{
  "nbformat": 4,
  "nbformat_minor": 0,
  "metadata": {
    "colab": {
      "provenance": []
    },
    "kernelspec": {
      "name": "python3",
      "display_name": "Python 3"
    },
    "language_info": {
      "name": "python"
    }
  },
  "cells": [
    {
      "cell_type": "code",
      "execution_count": null,
      "metadata": {
        "id": "wrXvdTBH1vt-"
      },
      "outputs": [],
      "source": [
        "# Pandas\n",
        "# Pandas is a fast, powerful, flexible, and easy-to-use open-source data analysis and\n",
        "# manipulation tool, built on top of the Python programming language.\n",
        "\n",
        "# Pandas is the backbone of most data science projects\n",
        "\n",
        "# Pandas is an open-source Python library providing high-performance,\n",
        "# easy-to-use data structures and data analysis tools for the Python\n",
        "# programming language. Python with Pandas is used in a wide range of\n",
        "# fields including academic and commercial domains such as finance,\n",
        "# economics, statistics, analytics, etc.\n",
        "\n",
        "# In 2008, developer Wes McKinney started developing Pandas when he needed\n",
        "# a high-performance, flexible tool for data analysis.\n",
        "\n",
        "# Prior to Pandas, Python was majorly used for data munging and preparation.\n",
        "# It had very little contribution towards data analysis.\n",
        "# Pandas solved this problem. Using Pandas, we can accomplish five typical\n",
        "# steps in the processing and analysis of data, regardless of the\n",
        "# origin of data - load, prepare, manipulate, model, and analyze.\n",
        "\n",
        "# Key Features of Pandas\n",
        "\n",
        "# a.) Tools for loading data into in-memory data objects from different file formats\n",
        "# b.) Data alignment and integrated handling of missing data\n",
        "# c.) Label-based slicing, indexing, and subsetting of large datasets\n",
        "# d.) Columns from a data structure can be deleted or inserted\n",
        "# e.) Grouping of data for aggregation and transformations\n",
        "# f.) High-performance merging and joining of data\n",
        "# g.) Time Series functionality\n",
        "\n",
        "# NumPy vs Pandas\n",
        "\n",
        "# a.) The Pandas module mainly works with tabular data, whereas the NumPy module works with\n",
        "# numerical data.\n",
        "\n",
        "# b.) Pandas provides powerful tools like DataFrame and Series that are mainly used\n",
        "# for analyzing data, whereas the NumPy module offers a powerful object called Array.\n",
        "\n",
        "# c.) Pandas covers a broader range of applications, being mentioned in\n",
        "# 73 company stacks and 46 developer stacks, whereas NumPy is mentioned in\n",
        "# 62 company stacks and 32 developer stacks.\n",
        "\n",
        "# d.) Pandas has better performance for datasets with a large number of rows,\n",
        "# whereas NumPy performs better for smaller datasets (50K rows or less).\n"
      ]
    },
    {
      "cell_type": "code",
      "source": [
        "import numpy as np\n",
        "import pandas as pd\n",
        "print(pd.__version__)"
      ],
      "metadata": {
        "colab": {
          "base_uri": "https://localhost:8080/"
        },
        "id": "rpyin6iQ7rfa",
        "outputId": "d6708f0b-bd1b-4a36-9b20-69c6bb00d919"
      },
      "execution_count": 2,
      "outputs": [
        {
          "output_type": "stream",
          "name": "stdout",
          "text": [
            "2.2.2\n"
          ]
        }
      ]
    },
    {
      "cell_type": "code",
      "source": [
        "arr = np.array([1,2,5,8])\n",
        "print(arr)\n",
        "print(type(arr))"
      ],
      "metadata": {
        "colab": {
          "base_uri": "https://localhost:8080/"
        },
        "id": "I3xIlN017vM-",
        "outputId": "2ad692a1-17c7-471e-f564-1a58eeaf0423"
      },
      "execution_count": 3,
      "outputs": [
        {
          "output_type": "stream",
          "name": "stdout",
          "text": [
            "[1 2 5 8]\n",
            "<class 'numpy.ndarray'>\n"
          ]
        }
      ]
    },
    {
      "cell_type": "code",
      "source": [
        "Series = pd.Series(arr)\n",
        "print(type(Series))\n",
        "print(Series)"
      ],
      "metadata": {
        "colab": {
          "base_uri": "https://localhost:8080/"
        },
        "id": "ttcCSCOU74aN",
        "outputId": "441d1e14-1ea7-4123-fd95-2051eecb057f"
      },
      "execution_count": 4,
      "outputs": [
        {
          "output_type": "stream",
          "name": "stdout",
          "text": [
            "<class 'pandas.core.series.Series'>\n",
            "0    1\n",
            "1    2\n",
            "2    5\n",
            "3    8\n",
            "dtype: int64\n"
          ]
        }
      ]
    },
    {
      "cell_type": "code",
      "source": [
        "age = pd.Series([67,76,12],index=['age1','age2','age3'])\n",
        "print(age)\n",
        "print(age['age2'])\n",
        "print(age['age3'])\n",
        "print(age.iloc[0])"
      ],
      "metadata": {
        "colab": {
          "base_uri": "https://localhost:8080/"
        },
        "id": "_03s3C5l75Ov",
        "outputId": "c8151cc7-bca8-45ab-b3c0-5570d8da2b9e"
      },
      "execution_count": 5,
      "outputs": [
        {
          "output_type": "stream",
          "name": "stdout",
          "text": [
            "age1    67\n",
            "age2    76\n",
            "age3    12\n",
            "dtype: int64\n",
            "76\n",
            "12\n",
            "67\n"
          ]
        }
      ]
    },
    {
      "cell_type": "code",
      "source": [
        "s = pd.Series([10,20,30,40,50],index=['val1','val2','val3','val4','val5'])\n",
        "print(s)\n",
        "print(s.iloc[2])\n",
        "print(s['val3'])\n",
        "print(s['val1':'val4'])"
      ],
      "metadata": {
        "colab": {
          "base_uri": "https://localhost:8080/"
        },
        "id": "L0AktXcF77b1",
        "outputId": "acc6537b-6ece-4435-b8b9-727834e3bfb5"
      },
      "execution_count": 6,
      "outputs": [
        {
          "output_type": "stream",
          "name": "stdout",
          "text": [
            "val1    10\n",
            "val2    20\n",
            "val3    30\n",
            "val4    40\n",
            "val5    50\n",
            "dtype: int64\n",
            "30\n",
            "30\n",
            "val1    10\n",
            "val2    20\n",
            "val3    30\n",
            "val4    40\n",
            "dtype: int64\n"
          ]
        }
      ]
    },
    {
      "cell_type": "code",
      "source": [
        "print(\"\\nusing for loop\")\n",
        "for i in s:\n",
        "  print(i)"
      ],
      "metadata": {
        "colab": {
          "base_uri": "https://localhost:8080/"
        },
        "id": "-f1zjY2I7_T9",
        "outputId": "5f7736c1-07cd-490c-f519-8934d2bfa637"
      },
      "execution_count": 7,
      "outputs": [
        {
          "output_type": "stream",
          "name": "stdout",
          "text": [
            "\n",
            "using for loop\n",
            "10\n",
            "20\n",
            "30\n",
            "40\n",
            "50\n"
          ]
        }
      ]
    },
    {
      "cell_type": "code",
      "source": [
        "print(\"\\nPerforming Numerical Computation\")\n",
        "print(s*2)"
      ],
      "metadata": {
        "colab": {
          "base_uri": "https://localhost:8080/"
        },
        "id": "DFBVKkQO8BxN",
        "outputId": "18b22cef-88f8-4182-ff4d-b5bde2c377cf"
      },
      "execution_count": 8,
      "outputs": [
        {
          "output_type": "stream",
          "name": "stdout",
          "text": [
            "\n",
            "Performing Numerical Computation\n",
            "val1     20\n",
            "val2     40\n",
            "val3     60\n",
            "val4     80\n",
            "val5    100\n",
            "dtype: int64\n"
          ]
        }
      ]
    },
    {
      "cell_type": "code",
      "source": [
        "s = pd.Series([10,20,30,40,50],index=['val1','val2','val3','val4','val5'])\n",
        "print(s.values)\n",
        "print(s.shape)\n",
        "print(s.index)\n",
        "print(s.dtype)"
      ],
      "metadata": {
        "colab": {
          "base_uri": "https://localhost:8080/"
        },
        "id": "E7LedVtm8D8r",
        "outputId": "7c89d097-f50a-4215-f91b-5cae46a9e014"
      },
      "execution_count": 9,
      "outputs": [
        {
          "output_type": "stream",
          "name": "stdout",
          "text": [
            "[10 20 30 40 50]\n",
            "(5,)\n",
            "Index(['val1', 'val2', 'val3', 'val4', 'val5'], dtype='object')\n",
            "int64\n"
          ]
        }
      ]
    }
  ]
}
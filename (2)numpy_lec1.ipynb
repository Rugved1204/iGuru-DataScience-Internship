{
  "nbformat": 4,
  "nbformat_minor": 0,
  "metadata": {
    "colab": {
      "provenance": []
    },
    "kernelspec": {
      "name": "python3",
      "display_name": "Python 3"
    },
    "language_info": {
      "name": "python"
    }
  },
  "cells": [
    {
      "cell_type": "code",
      "execution_count": 1,
      "metadata": {
        "id": "xuUv5hlTP80b"
      },
      "outputs": [],
      "source": [
        "import numpy as np"
      ]
    },
    {
      "cell_type": "code",
      "source": [
        "#where() --> returns index numbers in an output\n",
        "arr = np.array([8,94,8,56,1,3,4,5,7])\n",
        "print(arr)\n",
        "res = np.where(arr>10)\n",
        "print(res)\n",
        "print(arr[res])"
      ],
      "metadata": {
        "colab": {
          "base_uri": "https://localhost:8080/"
        },
        "id": "GzTVV_gtP_14",
        "outputId": "0e309b2f-e57d-468c-8d2d-00b4c8fe15ef"
      },
      "execution_count": 4,
      "outputs": [
        {
          "output_type": "stream",
          "name": "stdout",
          "text": [
            "[ 8 94  8 56  1  3  4  5  7]\n",
            "(array([1, 3]),)\n",
            "[94 56]\n"
          ]
        }
      ]
    },
    {
      "cell_type": "code",
      "source": [
        "#concatenate()\n",
        "arr1 = np.array([1,2,3])\n",
        "arr2 = np.array([4,5,6])\n",
        "arr = np.concatenate((arr1,arr2))\n",
        "print(arr)"
      ],
      "metadata": {
        "colab": {
          "base_uri": "https://localhost:8080/"
        },
        "id": "5-IwRWwpQrfK",
        "outputId": "1c3843bd-b7d0-4299-b0f1-c8a96a18830d"
      },
      "execution_count": 5,
      "outputs": [
        {
          "output_type": "stream",
          "name": "stdout",
          "text": [
            "[1 2 3 4 5 6]\n"
          ]
        }
      ]
    },
    {
      "cell_type": "code",
      "source": [
        "#concatenate for multi-dimensional array\n",
        "arr1 = np.array([[1,2,7],[3,4,8],[1,5,1]])\n",
        "arr2 = np.array([[5,6,8],[7,8,3]])\n",
        "arr = np.concatenate((arr1,arr2))\n",
        "print(arr)"
      ],
      "metadata": {
        "colab": {
          "base_uri": "https://localhost:8080/"
        },
        "id": "GRTiXtXDRvNH",
        "outputId": "6afdaebd-b3c0-4d3f-d2d4-8636f6cd0fab"
      },
      "execution_count": 9,
      "outputs": [
        {
          "output_type": "stream",
          "name": "stdout",
          "text": [
            "[[1 2 7]\n",
            " [3 4 8]\n",
            " [1 5 1]\n",
            " [5 6 8]\n",
            " [7 8 3]]\n"
          ]
        }
      ]
    },
    {
      "cell_type": "code",
      "source": [
        "#array_split(array_name , split_value)\n",
        "arr = np.array([1,2,3,4,5,6])\n",
        "newarr = np.array_split(arr,3)\n",
        "print(newarr)"
      ],
      "metadata": {
        "colab": {
          "base_uri": "https://localhost:8080/"
        },
        "id": "0yAH6zToSkFP",
        "outputId": "92c7bf98-d73f-45bc-baf3-82a0ce331f58"
      },
      "execution_count": 10,
      "outputs": [
        {
          "output_type": "stream",
          "name": "stdout",
          "text": [
            "[array([1, 2]), array([3, 4]), array([5, 6])]\n"
          ]
        }
      ]
    },
    {
      "cell_type": "code",
      "source": [
        "#sorting of array\n",
        "#sort()\n",
        "\n",
        "arr = np.array([1,4,2,7,9,3,5,8,6,10])\n",
        "print(arr)\n",
        "print(np.sort(arr)) #by default sorts in ascending order\\\n",
        "print(np.sort(arr)[::-1]) #sorts in descending order\n"
      ],
      "metadata": {
        "colab": {
          "base_uri": "https://localhost:8080/"
        },
        "id": "TdxfoJvATMs1",
        "outputId": "85a2a408-111e-4bd9-8a46-00cd84063d16"
      },
      "execution_count": 13,
      "outputs": [
        {
          "output_type": "stream",
          "name": "stdout",
          "text": [
            "[ 1  4  2  7  9  3  5  8  6 10]\n",
            "[ 1  2  3  4  5  6  7  8  9 10]\n",
            "[10  9  8  7  6  5  4  3  2  1]\n"
          ]
        }
      ]
    },
    {
      "cell_type": "code",
      "source": [
        "#zeros()\n",
        "#its used to create an array filled with zeros\n",
        "#by default datatype will be float\n",
        "\n",
        "#for 1-D array\n",
        "x=np.zeros(4)\n",
        "print(x)\n",
        "\n",
        "#for 3-D array\n",
        "x=np.zeros((3,3),dtype='i')\n",
        "print(x)"
      ],
      "metadata": {
        "colab": {
          "base_uri": "https://localhost:8080/"
        },
        "id": "4UGwGyPxUoa7",
        "outputId": "2dbde341-6b68-416b-8d27-8e61424559cf"
      },
      "execution_count": 25,
      "outputs": [
        {
          "output_type": "stream",
          "name": "stdout",
          "text": [
            "[0. 0. 0. 0.]\n",
            "[[0 0 0]\n",
            " [0 0 0]\n",
            " [0 0 0]]\n"
          ]
        }
      ]
    },
    {
      "cell_type": "code",
      "source": [
        "#ones()\n",
        "#its used to create an array filled with ones\n",
        "#by default datatype will be float\n",
        "\n",
        "#for 1-D array\n",
        "x=np.ones(4)\n",
        "print(x)\n",
        "\n",
        "#for 3-D array\n",
        "x=np.ones((3,3),dtype='i')\n",
        "print(x)"
      ],
      "metadata": {
        "colab": {
          "base_uri": "https://localhost:8080/"
        },
        "id": "TNlmuafDWpcM",
        "outputId": "ada8bcf0-4899-4eef-cb82-2c6bc7f2e9b9"
      },
      "execution_count": 26,
      "outputs": [
        {
          "output_type": "stream",
          "name": "stdout",
          "text": [
            "[1. 1. 1. 1.]\n",
            "[[1 1 1]\n",
            " [1 1 1]\n",
            " [1 1 1]]\n"
          ]
        }
      ]
    }
  ]
}
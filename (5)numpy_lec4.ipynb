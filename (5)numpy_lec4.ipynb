{
  "nbformat": 4,
  "nbformat_minor": 0,
  "metadata": {
    "colab": {
      "provenance": []
    },
    "kernelspec": {
      "name": "python3",
      "display_name": "Python 3"
    },
    "language_info": {
      "name": "python"
    }
  },
  "cells": [
    {
      "cell_type": "code",
      "execution_count": 1,
      "metadata": {
        "id": "9hC_JB5C8E1Q"
      },
      "outputs": [],
      "source": [
        "import numpy as np"
      ]
    },
    {
      "cell_type": "code",
      "source": [
        "# where() - this returns index numbers as output\n",
        "\n",
        "arr = np.array([8,94,8,56,1,3,4,5,7])\n",
        "res = np.where(arr > 5)\n",
        "print(res)\n",
        "print(arr[res])"
      ],
      "metadata": {
        "colab": {
          "base_uri": "https://localhost:8080/"
        },
        "id": "OLfxjq9X8TOI",
        "outputId": "72bc3782-13b7-44c5-ddb2-2994640cd428"
      },
      "execution_count": 4,
      "outputs": [
        {
          "output_type": "stream",
          "name": "stdout",
          "text": [
            "(array([0, 1, 2, 3, 8]),)\n",
            "[ 8 94  8 56  7]\n"
          ]
        }
      ]
    },
    {
      "cell_type": "code",
      "source": [
        "#concatenate()\n",
        "\n",
        "arr1 = np.array([1,2,3])\n",
        "arr2 = np.array([4,5,6])\n",
        "arr = np.concatenate((arr1,arr2))\n",
        "print(arr)"
      ],
      "metadata": {
        "colab": {
          "base_uri": "https://localhost:8080/"
        },
        "id": "xXeF-bHu8xXQ",
        "outputId": "68553a6c-a3d1-4f27-da43-ad95c8f0850a"
      },
      "execution_count": 5,
      "outputs": [
        {
          "output_type": "stream",
          "name": "stdout",
          "text": [
            "[1 2 3 4 5 6]\n"
          ]
        }
      ]
    },
    {
      "cell_type": "code",
      "source": [
        "# array_split\n",
        "\n",
        "arr = np.array([1,2,3,4,5,6])\n",
        "newarr = np.array_split(arr,3)\n",
        "print(newarr)"
      ],
      "metadata": {
        "colab": {
          "base_uri": "https://localhost:8080/"
        },
        "id": "1Xhl0fjT9NKa",
        "outputId": "6edac829-1357-4b27-b4e6-146de1bdfa62"
      },
      "execution_count": 6,
      "outputs": [
        {
          "output_type": "stream",
          "name": "stdout",
          "text": [
            "[array([1, 2]), array([3, 4]), array([5, 6])]\n"
          ]
        }
      ]
    },
    {
      "cell_type": "code",
      "source": [
        "# sorting of array\n",
        "\n",
        "arr = np.array([3,2,0,1,8,9,7,5,6])\n",
        "print(np.sort(arr))  #by default in ascending order\n",
        "print(np.sort(arr)[::-1])  #by default in descending order"
      ],
      "metadata": {
        "colab": {
          "base_uri": "https://localhost:8080/"
        },
        "id": "DvL_b7xE9iQn",
        "outputId": "7ba51f3f-0ad7-4e1b-e18a-c766105e7af1"
      },
      "execution_count": 9,
      "outputs": [
        {
          "output_type": "stream",
          "name": "stdout",
          "text": [
            "[0 1 2 3 5 6 7 8 9]\n",
            "[9 8 7 6 5 3 2 1 0]\n"
          ]
        }
      ]
    },
    {
      "cell_type": "code",
      "source": [
        "#"
      ],
      "metadata": {
        "id": "WG2kCTBR9nYb"
      },
      "execution_count": null,
      "outputs": []
    }
  ]
}
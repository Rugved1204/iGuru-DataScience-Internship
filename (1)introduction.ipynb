{
 "cells": [
  {
   "cell_type": "code",
   "execution_count": 1,
   "id": "44c8f713-5425-4de5-8d0b-fca2fa491fa0",
   "metadata": {},
   "outputs": [
    {
     "data": {
      "text/plain": [
       "'\\n\\nNumPy is a Python library used for working with arrays.\\n\\nIt also has functions for working in domain of linear algebra, fourier transform,\\nand matrices.\\n\\nNumPy was created in 2005 by Travis Oliphant. It is an open source project and you\\ncan use it freely.\\n\\nNumPy stands for Numerical Python.\\n\\nWhy Use NumPy?\\n\\nIn Python we have lists that serve the purpose of arrays, but they are slow to process.\\nNumPy aims to provide an array object that is up to 50x faster than traditional Python lists.\\n\\nThe array object in NumPy is called ndarray, it provides a lot of supporting functions\\nthat make working with ndarray very easy.\\n\\nArrays are very frequently used in data science, where speed and resources are very important.\\n\\n'"
      ]
     },
     "execution_count": 1,
     "metadata": {},
     "output_type": "execute_result"
    }
   ],
   "source": [
    "# Data Science Libraries\n",
    "\n",
    "# a.) Numpy\n",
    "# b.) Pandas\n",
    "# c.) Matplotlib\n",
    "# d.) Seaborn\n",
    "\n",
    "# What Is Data Science ?\n",
    "\n",
    "'''\n",
    "Data science is the study of data to extract meaningful insights for business.\n",
    "\n",
    "Data Science is a combination of multiple disciplines that uses statistics,\n",
    "data analysis, and machine learning to analyze data and to extract knowledge and\n",
    "insights from it.\n",
    "Examples of where Data Science is needed:\n",
    "\n",
    "For route planning: To discover the best routes to ship\n",
    "To foresee delays for flight/ship/train etc. (through predictive analysis)\n",
    "To create promotional offers\n",
    "To find the best suited time to deliver goods\n",
    "To forecast the next years revenue for a company\n",
    "To analyze health benefit of training\n",
    "To predict who will win elections\n",
    "\n",
    "'''\n",
    "# Numpy\n",
    "\n",
    "'''\n",
    "\n",
    "NumPy is a Python library used for working with arrays.\n",
    "\n",
    "It also has functions for working in domain of linear algebra, fourier transform,\n",
    "and matrices.\n",
    "\n",
    "NumPy was created in 2005 by Travis Oliphant. It is an open source project and you\n",
    "can use it freely.\n",
    "\n",
    "NumPy stands for Numerical Python.\n",
    "\n",
    "Why Use NumPy?\n",
    "\n",
    "In Python we have lists that serve the purpose of arrays, but they are slow to process.\n",
    "NumPy aims to provide an array object that is up to 50x faster than traditional Python lists.\n",
    "\n",
    "The array object in NumPy is called ndarray, it provides a lot of supporting functions\n",
    "that make working with ndarray very easy.\n",
    "\n",
    "Arrays are very frequently used in data science, where speed and resources are very important.\n",
    "\n",
    "'''"
   ]
  },
  {
   "cell_type": "code",
   "execution_count": 5,
   "id": "b0f3a2e6-1db3-4e7b-8f03-2d5dd0c54ad8",
   "metadata": {},
   "outputs": [
    {
     "name": "stdout",
     "output_type": "stream",
     "text": [
      "<module 'numpy.version' from 'C:\\\\Users\\\\Raviraj\\\\anaconda3\\\\Lib\\\\site-packages\\\\numpy\\\\version.py'>\n"
     ]
    }
   ],
   "source": [
    "import numpy as np\n",
    "print(np.version)"
   ]
  },
  {
   "cell_type": "code",
   "execution_count": 7,
   "id": "9bb2963b-c7ba-4a5c-9936-341458d5b03d",
   "metadata": {},
   "outputs": [
    {
     "name": "stdout",
     "output_type": "stream",
     "text": [
      "[10 20 30 40]\n"
     ]
    }
   ],
   "source": [
    "arr=np.array([10,20,30,40])\n",
    "print(arr)"
   ]
  },
  {
   "cell_type": "code",
   "execution_count": 9,
   "id": "6db6af93-05dc-4594-aa11-f783ab599bd8",
   "metadata": {},
   "outputs": [
    {
     "name": "stdout",
     "output_type": "stream",
     "text": [
      "<class 'numpy.ndarray'>\n"
     ]
    }
   ],
   "source": [
    "print(type(arr))"
   ]
  },
  {
   "cell_type": "code",
   "execution_count": 11,
   "id": "43e050cf-c491-4acc-8713-225005425d49",
   "metadata": {},
   "outputs": [
    {
     "name": "stdout",
     "output_type": "stream",
     "text": [
      "[10, 20, 30]\n"
     ]
    }
   ],
   "source": [
    "list=[10,20,30]\n",
    "print(list)\n"
   ]
  },
  {
   "cell_type": "code",
   "execution_count": 13,
   "id": "d8bd4bdc-6103-4e72-8a0f-8eea37f89ee1",
   "metadata": {},
   "outputs": [
    {
     "name": "stdout",
     "output_type": "stream",
     "text": [
      "[10, 20, 30, 10, 20, 30, 10, 20, 30]\n"
     ]
    }
   ],
   "source": [
    "print(list*3)\n"
   ]
  },
  {
   "cell_type": "code",
   "execution_count": 15,
   "id": "a9bac60e-a127-4b9b-b4fe-e6872de27948",
   "metadata": {},
   "outputs": [
    {
     "name": "stdout",
     "output_type": "stream",
     "text": [
      "20\n",
      "40\n",
      "60\n"
     ]
    }
   ],
   "source": [
    "for i in list:\n",
    "    print(i*2)"
   ]
  },
  {
   "cell_type": "code",
   "execution_count": 17,
   "id": "584c6a70-0b92-4dd1-aab8-3282e936ad88",
   "metadata": {},
   "outputs": [
    {
     "name": "stdout",
     "output_type": "stream",
     "text": [
      "[ 30  60  90 120]\n"
     ]
    }
   ],
   "source": [
    "print(arr*3)\n"
   ]
  },
  {
   "cell_type": "code",
   "execution_count": 19,
   "id": "edd1a0b8-049c-4301-8225-d97492a85141",
   "metadata": {},
   "outputs": [],
   "source": [
    "#array is collection of similar data type\n"
   ]
  },
  {
   "cell_type": "code",
   "execution_count": 27,
   "id": "72c52f53-579c-4860-82cc-e75e1b98f3da",
   "metadata": {},
   "outputs": [
    {
     "name": "stdout",
     "output_type": "stream",
     "text": [
      "['10' '20' 'python' 'biceps' 'True']\n"
     ]
    }
   ],
   "source": [
    "arr2=np.array([10,20,'python','biceps',True])\n",
    "print(arr2)"
   ]
  },
  {
   "cell_type": "code",
   "execution_count": 25,
   "id": "eb725a4f-b8fc-4c43-b6c3-f5b005c0c690",
   "metadata": {},
   "outputs": [
    {
     "name": "stdout",
     "output_type": "stream",
     "text": [
      "<class 'numpy.ndarray'>\n"
     ]
    }
   ],
   "source": [
    "print(type(arr2))"
   ]
  },
  {
   "cell_type": "code",
   "execution_count": null,
   "id": "c7396156-f4cd-4dc6-b720-117abc4ebfb0",
   "metadata": {},
   "outputs": [],
   "source": []
  }
 ],
 "metadata": {
  "kernelspec": {
   "display_name": "Python [conda env:base] *",
   "language": "python",
   "name": "conda-base-py"
  },
  "language_info": {
   "codemirror_mode": {
    "name": "ipython",
    "version": 3
   },
   "file_extension": ".py",
   "mimetype": "text/x-python",
   "name": "python",
   "nbconvert_exporter": "python",
   "pygments_lexer": "ipython3",
   "version": "3.12.7"
  }
 },
 "nbformat": 4,
 "nbformat_minor": 5
}
